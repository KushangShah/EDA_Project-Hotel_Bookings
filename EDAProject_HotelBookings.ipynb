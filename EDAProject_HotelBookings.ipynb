{
  "nbformat": 4,
  "nbformat_minor": 0,
  "metadata": {
    "colab": {
      "private_outputs": true,
      "provenance": [],
      "collapsed_sections": [
        "vncDsAP0Gaoa",
        "FJNUwmbgGyua",
        "w6K7xa23Elo4",
        "yQaldy8SH6Dl",
        "PH-0ReGfmX4f",
        "mDgbUHAGgjLW",
        "O_i_v8NEhb9l",
        "HhfV-JJviCcP",
        "Y3lxredqlCYt",
        "3RnN4peoiCZX",
        "x71ZqKXriCWQ",
        "7hBIi_osiCS2",
        "JlHwYmJAmNHm",
        "35m5QtbWiB9F",
        "PoPl-ycgm1ru",
        "H0kj-8xxnORC",
        "nA9Y7ga8ng1Z",
        "PBTbrJXOngz2",
        "u3PMJOP6ngxN",
        "dauF4eBmngu3",
        "bKJF3rekwFvQ",
        "MSa1f5Uengrz",
        "GF8Ens_Soomf",
        "0wOQAZs5pc--",
        "K5QZ13OEpz2H",
        "lQ7QKXXCp7Bj",
        "448CDAPjqfQr",
        "KSlN3yHqYklG",
        "t6dVpIINYklI",
        "ijmpgYnKYklI",
        "-JiQyfWJYklI",
        "EM7whBJCYoAo",
        "fge-S5ZAYoAp",
        "85gYPyotYoAp",
        "RoGjAbkUYoAp",
        "4Of9eVA-YrdM",
        "iky9q4vBYrdO",
        "F6T5p64dYrdO",
        "y-Ehk30pYrdP",
        "bamQiAODYuh1",
        "QHF8YVU7Yuh3",
        "GwzvFGzlYuh3",
        "qYpmQ266Yuh3",
        "OH-pJp9IphqM",
        "bbFf2-_FphqN",
        "_ouA3fa0phqN",
        "Seke61FWphqN",
        "PIIx-8_IphqN",
        "t27r6nlMphqO",
        "r2jJGEOYphqO",
        "b0JNsNcRphqO",
        "BZR9WyysphqO",
        "jj7wYXLtphqO",
        "eZrbJ2SmphqO",
        "rFu4xreNphqO",
        "YJ55k-q6phqO",
        "gCFgpxoyphqP",
        "OVtJsKN_phqQ",
        "lssrdh5qphqQ",
        "U2RJ9gkRphqQ",
        "1M8mcRywphqQ",
        "tgIPom80phqQ",
        "JMzcOPDDphqR",
        "x-EpHcCOp1ci",
        "X_VqEhTip1ck",
        "8zGJKyg5p1ck",
        "PVzmfK_Ep1ck",
        "n3dbpmDWp1ck",
        "ylSl6qgtp1ck",
        "ZWILFDl5p1ck",
        "M7G43BXep1ck",
        "Ag9LCva-p1cl",
        "E6MkPsBcp1cl",
        "2cELzS2fp1cl",
        "3MPXvC8up1cl",
        "NC_X3p0fY2L0",
        "UV0SzAkaZNRQ",
        "YPEH6qLeZNRQ",
        "q29F0dvdveiT",
        "EXh0U9oCveiU",
        "22aHeOlLveiV",
        "JcMwzZxoAimU",
        "8G2x9gOozGDZ",
        "gCX9965dhzqZ",
        "gIfDvo9L0UH2"
      ],
      "include_colab_link": true
    },
    "kernelspec": {
      "name": "python3",
      "display_name": "Python 3"
    },
    "language_info": {
      "name": "python"
    }
  },
  "cells": [
    {
      "cell_type": "markdown",
      "metadata": {
        "id": "view-in-github",
        "colab_type": "text"
      },
      "source": [
        "<a href=\"https://colab.research.google.com/github/KushangShah/EDA_Project-Hotel_Bookings/blob/main/EDAProject_HotelBookings.ipynb\" target=\"_parent\"><img src=\"https://colab.research.google.com/assets/colab-badge.svg\" alt=\"Open In Colab\"/></a>"
      ]
    },
    {
      "cell_type": "markdown",
      "source": [
        "# **Project Name**    - Hotel Booking\n",
        "\n"
      ],
      "metadata": {
        "id": "vncDsAP0Gaoa"
      }
    },
    {
      "cell_type": "markdown",
      "source": [
        "##### **Project Type**    - EDA\n",
        "##### **Contribution**    - Kushang Shah(Individual)"
      ],
      "metadata": {
        "id": "beRrZCGUAJYm"
      }
    },
    {
      "cell_type": "markdown",
      "source": [
        "# **Project Summary -**"
      ],
      "metadata": {
        "id": "FJNUwmbgGyua"
      }
    },
    {
      "cell_type": "markdown",
      "source": [
        "## **Exploratory Data Analysis (EDA) Summary: Understanding Hotel Bookings**\n",
        "\n",
        "Exploratory Data Analysis (EDA) is a crucial step in the data analysis process, allowing us to understand the structure and patterns within our data. In this summary, we delve into an EDA conducted on hotel booking data, aiming to extract meaningful insights and trends.\n",
        "\n",
        "###**Dataset Overview:**\n",
        "The dataset comprises information about hotel bookings, including various attributes such as booking dates, customer demographics, booking channels, and reservation details. It encompasses both hotel types: resorts and city hotels.\n",
        "\n",
        "###**Data Exploration:**\n",
        "#### **Data Cleaning**: Initially, the data underwent cleaning procedures to handle missing values, outliers, and inconsistencies. This step ensured the dataset's integrity and reliability for analysis.\n",
        "####**Descriptive Statistics**: Basic statistics such as mean, median, standard deviation, and quartiles were calculated for numerical features like booking lead time, stays in nights, and number of adults/children. This provided a snapshot of the central tendencies and spread of the data.\n",
        "####**Distribution Analysis**: Histograms and density plots were employed to visualize the distribution of key variables, revealing insights into their skewness, multimodality, and outliers. For instance, booking lead time exhibited a right-skewed distribution, indicating a tendency towards shorter booking intervals.\n",
        "####**Temporal Trends**: Time series analysis was conducted to explore temporal patterns in booking volumes over different months and years. This analysis uncovered seasonality effects, with peak booking periods occurring during certain months, possibly influenced by holidays or tourism seasons.\n",
        "####**Segmentation Analysis**: Customer segmentation based on demographics (e.g., age, nationality) and booking characteristics (e.g., duration of stay, room type) was performed. This segmentation shed light on distinct booking behaviors among different customer groups, enabling targeted marketing strategies.\n",
        "\n",
        "\n",
        "###**Insights and Trends:**\n",
        "\n",
        "####**Seasonal Variations**: The analysis revealed fluctuations in booking volumes across seasons, with summer and holiday seasons experiencing higher demand compared to off-peak periods. This insight can inform revenue management strategies and resource allocation.\n",
        "####**Booking Channels**: Examination of booking channels (e.g., online travel agencies, direct bookings) unveiled the preferred platforms through which customers make reservations. Understanding channel preferences can guide marketing efforts and partnership decisions.\n",
        "####**Cancellation Patterns**: Analysis of cancellation rates and reasons for cancellations provided insights into customer behavior and booking volatility. Factors influencing cancellations, such as flexibility in cancellation policies, can be optimized to minimize revenue loss.\n",
        "####**Booking Lead Time**: Exploration of booking lead time distribution highlighted booking patterns, with implications for inventory management and pricing strategies. Shorter lead times may necessitate dynamic pricing mechanisms to capitalize on last-minute bookings.\n",
        "##**Conclusion**:\n",
        "Through comprehensive exploratory data analysis, valuable insights have been gleaned regarding hotel booking trends, customer behavior, and operational dynamics. These insights can inform strategic decision-making processes, ranging from revenue management to customer experience enhancement. Continued analysis and refinement of these findings will facilitate data-driven optimization of hotel operations and service delivery."
      ],
      "metadata": {
        "id": "F6v_1wHtG2nS"
      }
    },
    {
      "cell_type": "markdown",
      "source": [
        "# **GitHub Link -**"
      ],
      "metadata": {
        "id": "w6K7xa23Elo4"
      }
    },
    {
      "cell_type": "markdown",
      "source": [
        "####**GitHub Link:** - [EDA Project - Hotel Booking](https://github.com/KushangShah/EDA_Project-Hotel_Bookings/tree/main)\n",
        "\n"
      ],
      "metadata": {
        "id": "h1o69JH3Eqqn"
      }
    },
    {
      "cell_type": "markdown",
      "source": [
        "# **Problem Statement**\n"
      ],
      "metadata": {
        "id": "yQaldy8SH6Dl"
      }
    },
    {
      "cell_type": "markdown",
      "source": [
        "#####--> The primary objective is to gain comprehensive insights into the underlying **patterns**, **trends**, and **dynamics of the booking process.**\n",
        "\n",
        "#####1. **Booking Patterns**: What typical booking patterns do we observe in terms of timing, duration, and seasonality?\n",
        "Do discernible trends or fluctuations exist in booking volumes over different time periods?\n",
        "\n",
        "#####2. **Booking Dynamics**: What are the temporal trends in booking volumes and cancellation rates? Are there seasonal variations, and if so, how do they impact hotel occupancy and revenue?\n",
        "#####3. **Customer Segmentation**: How can customers be segmented based on demographics, booking behaviors, and preferences? What are the characteristics of different customer segments, and how can tailored marketing strategies be developed to cater to their needs?\n",
        "#####4. **Operational Efficiency**: What factors contribute to booking lead time, and how can inventory management and pricing strategies be optimized accordingly? Are there patterns in room type preferences, booking channels, and deposit types that influence operational efficiency?\n",
        "#####5. **Revenue Management**: How do pricing dynamics, such as ADR and booking changes, impact revenue generation? What are the implications of special requests, car parking requirements, and meal preferences on revenue maximization?\n",
        "\n",
        "\n"
      ],
      "metadata": {
        "id": "DpeJGUA3kjGy"
      }
    },
    {
      "cell_type": "markdown",
      "source": [
        "#### **Define Your Business Objective?**"
      ],
      "metadata": {
        "id": "PH-0ReGfmX4f"
      }
    },
    {
      "cell_type": "markdown",
      "source": [
        "**Business Objective:**\n",
        "\n",
        "The primary business objective of conducting exploratory data analysis (EDA) on hotel bookings is to leverage data-driven insights to optimize revenue generation, enhance operational efficiency, and improve customer satisfaction within the hospitality industry. By delving into the dataset and extracting meaningful patterns and trends, the ultimate goal is to inform strategic decision-making processes and drive tangible outcomes for the hotel management.\n",
        "\n",
        "1. **Revenue Optimization:**\n",
        "   - Identify factors influencing revenue generation, such as pricing dynamics, booking patterns, and customer preferences.\n",
        "   - Utilize insights to implement dynamic pricing mechanisms, targeted promotions, and revenue management strategies.\n",
        "\n",
        "2. **Operational Efficiency:**\n",
        "   - Enhance resource allocation, inventory management, and staff scheduling based on demand patterns and booking trends.\n",
        "   - Optimize room allocation, booking channels, and distribution strategies to improve operational efficiency.\n",
        "   - Streamline processes to minimize booking lead time, reduce cancellations, and optimize room utilization.\n",
        "\n",
        "3. **Customer Satisfaction:**\n",
        "   - Understand customer preferences, behaviors, and satisfaction drivers to deliver personalized experiences.\n",
        "   - Segment customers based on demographics, booking behaviors, and preferences to tailor marketing efforts and services.\n",
        "   - Anticipate and fulfill customer needs, preferences, and special requests to enhance overall satisfaction and loyalty.\n",
        "\n",
        "4. **Risk Management and Decision Support:**\n",
        "   - Identify potential risks, such as overbooking, cancellations, and revenue volatility, and develop mitigation strategies.\n",
        "   - Provide decision support for strategic initiatives, investment opportunities, and expansion plans based on data-driven insights.\n",
        "   - Monitor key performance indicators (KPIs) and metrics to track progress, evaluate performance, and adapt strategies accordingly.\n",
        "\n",
        "Overall, the business objective of the EDA on hotel bookings is to leverage data analytics to drive strategic decision-making, optimize operations, and create value for both the hotel management and customers. By harnessing the power of data, the aim is to achieve sustainable growth, competitive advantage, and excellence in service delivery within the hospitality sector."
      ],
      "metadata": {
        "id": "PhDvGCAqmjP1"
      }
    },
    {
      "cell_type": "markdown",
      "source": [
        "# **General Guidelines** : -  "
      ],
      "metadata": {
        "id": "mDgbUHAGgjLW"
      }
    },
    {
      "cell_type": "markdown",
      "source": [
        "1.   Well-structured, formatted, and commented code is required.\n",
        "2.   Exception Handling, Production Grade Code & Deployment Ready Code will be a plus. Those students will be awarded some additional credits.\n",
        "     \n",
        "     The additional credits will have advantages over other students during Star Student selection.\n",
        "       \n",
        "             [ Note: - Deployment Ready Code is defined as, the whole .ipynb notebook should be executable in one go\n",
        "                       without a single error logged. ]\n",
        "\n",
        "3.   Each and every logic should have proper comments.\n",
        "4. You may add as many number of charts you want. Make Sure for each and every chart the following format should be answered.\n",
        "        \n",
        "\n",
        "```\n",
        "# Chart visualization code\n",
        "```\n",
        "            \n",
        "\n",
        "*   Why did you pick the specific chart?\n",
        "*   What is/are the insight(s) found from the chart?\n",
        "* Will the gained insights help creating a positive business impact?\n",
        "Are there any insights that lead to negative growth? Justify with specific reason.\n",
        "\n",
        "5. You have to create at least 20 logical & meaningful charts having important insights.\n",
        "\n",
        "\n",
        "[ Hints : - Do the Vizualization in  a structured way while following \"UBM\" Rule.\n",
        "\n",
        "U - Univariate Analysis,\n",
        "\n",
        "B - Bivariate Analysis (Numerical - Categorical, Numerical - Numerical, Categorical - Categorical)\n",
        "\n",
        "M - Multivariate Analysis\n",
        " ]\n",
        "\n",
        "\n",
        "\n"
      ],
      "metadata": {
        "id": "ZrxVaUj-hHfC"
      }
    },
    {
      "cell_type": "markdown",
      "source": [
        "# ***Let's Begin !***"
      ],
      "metadata": {
        "id": "O_i_v8NEhb9l"
      }
    },
    {
      "cell_type": "markdown",
      "source": [
        "## ***1. Know Your Data***"
      ],
      "metadata": {
        "id": "HhfV-JJviCcP"
      }
    },
    {
      "cell_type": "markdown",
      "source": [
        "### Import Libraries"
      ],
      "metadata": {
        "id": "Y3lxredqlCYt"
      }
    },
    {
      "cell_type": "code",
      "source": [
        "# Import Libraries\n",
        "import numpy as np\n",
        "import pandas as pd\n",
        "import matplotlib.pyplot as plt\n",
        "import seaborn as sns\n",
        "import missingno as msno"
      ],
      "metadata": {
        "id": "M8Vqi-pPk-HR"
      },
      "execution_count": null,
      "outputs": []
    },
    {
      "cell_type": "markdown",
      "source": [
        "### Dataset Loading"
      ],
      "metadata": {
        "id": "3RnN4peoiCZX"
      }
    },
    {
      "cell_type": "code",
      "source": [
        "# Load Dataset\n",
        "from google.colab import drive\n",
        "drive.mount(\"/content/drive\")"
      ],
      "metadata": {
        "id": "4CkvbW_SlZ_R"
      },
      "execution_count": null,
      "outputs": []
    },
    {
      "cell_type": "code",
      "source": [
        "hb_df = pd.read_csv(\"/content/drive/MyDrive/CSV files/Hotel Bookings.csv\")"
      ],
      "metadata": {
        "id": "kQn14tTtyD1n"
      },
      "execution_count": null,
      "outputs": []
    },
    {
      "cell_type": "markdown",
      "source": [
        "### Dataset First View"
      ],
      "metadata": {
        "id": "x71ZqKXriCWQ"
      }
    },
    {
      "cell_type": "code",
      "source": [
        "# Dataset First Look\n",
        "hb_df"
      ],
      "metadata": {
        "id": "LWNFOSvLl09H"
      },
      "execution_count": null,
      "outputs": []
    },
    {
      "cell_type": "markdown",
      "source": [
        "### Dataset Rows & Columns count"
      ],
      "metadata": {
        "id": "7hBIi_osiCS2"
      }
    },
    {
      "cell_type": "code",
      "source": [
        "# Dataset Rows & Columns count\n",
        "hb_df.shape"
      ],
      "metadata": {
        "id": "Kllu7SJgmLij"
      },
      "execution_count": null,
      "outputs": []
    },
    {
      "cell_type": "markdown",
      "source": [
        "### Dataset Information"
      ],
      "metadata": {
        "id": "JlHwYmJAmNHm"
      }
    },
    {
      "cell_type": "code",
      "source": [
        "# Dataset Info\n",
        "hb_df.info()"
      ],
      "metadata": {
        "id": "e9hRXRi6meOf"
      },
      "execution_count": null,
      "outputs": []
    },
    {
      "cell_type": "markdown",
      "source": [
        "#### Duplicate Values"
      ],
      "metadata": {
        "id": "35m5QtbWiB9F"
      }
    },
    {
      "cell_type": "code",
      "source": [
        "# Dataset Duplicate Value Count\n",
        "hb_df[hb_df.duplicated()].count()"
      ],
      "metadata": {
        "id": "1sLdpKYkmox0"
      },
      "execution_count": null,
      "outputs": []
    },
    {
      "cell_type": "code",
      "source": [
        "# using drop_duplicates to get unique number of rows\n",
        "hb_df.drop_duplicates(inplace=True)\n",
        "unique_rows = hb_df.shape[0]\n",
        "unique_rows"
      ],
      "metadata": {
        "id": "h0mSjl-NVhV9"
      },
      "execution_count": null,
      "outputs": []
    },
    {
      "cell_type": "markdown",
      "source": [
        "#### Missing Values/Null Values"
      ],
      "metadata": {
        "id": "PoPl-ycgm1ru"
      }
    },
    {
      "cell_type": "code",
      "source": [
        "# Finding for null value in each column.\n",
        "hb_df.isna().sum().sort_values(ascending=False)[:6]"
      ],
      "metadata": {
        "id": "ZMEbqD1MXcDu"
      },
      "execution_count": null,
      "outputs": []
    },
    {
      "cell_type": "code",
      "source": [
        "# Handling those null values\n",
        "hb_df[\"company\"].fillna(0, inplace=True) # Assigning 0 where block is null is company column\n",
        "hb_df[\"agent\"].fillna(0, inplace=True)  # Assigning 0 inplace null in agent column\n",
        "hb_df[\"country\"].fillna(\"others\", inplace=True) # assigning \"other\" where country name is not given.\n",
        "hb_df[\"children\"].fillna(0, inplace=True) # Assigning 0 where children is not mentioned"
      ],
      "metadata": {
        "id": "I1d6eW4pX_1k"
      },
      "execution_count": null,
      "outputs": []
    },
    {
      "cell_type": "code",
      "source": [
        "# Missing values has been handled.\n",
        "hb_df.isna().sum().sort_values(ascending=False)"
      ],
      "metadata": {
        "id": "nAHZt2AVZP0d"
      },
      "execution_count": null,
      "outputs": []
    },
    {
      "cell_type": "markdown",
      "source": [
        "### What did you know about your dataset?"
      ],
      "metadata": {
        "id": "H0kj-8xxnORC"
      }
    },
    {
      "cell_type": "markdown",
      "source": [
        "Hotel booking dataset contained 119390 rows × 32 columns.\n",
        "and It has 87396 number of unique rows and 31994 same(duplicated) rows.\n",
        "\n",
        "Hotel booking Dataset had\n",
        "```\n",
        "company               82137\n",
        "agent                 12193\n",
        "country                 452\n",
        "children                  4\n",
        "```\n",
        "Numbers of null values paresent in them.\n",
        "\n",
        "\n",
        "\n",
        "Hotel Booking Dataset contain 32 columns with different data init such as,\n",
        "1. hotel: Name or identifier of the hotel(City or resort).\n",
        "2. is_canceled: Binary indicator if the booking was canceled (1) or not (0).\n",
        "3. lead_time: Number of days between the booking date and the arrival date.\n",
        "4. arrival_date_year: Year of arrival date.\n",
        "5. arrival_date_month: Month of arrival date.\n",
        "6. arrival_date_week_number: Week number of arrival date.\n",
        "7. arrival_date_day_of_month: Day of arrival date.\n",
        "8. stays_in_weekend_nights: Number of weekend nights (Saturday or Sunday) the guest stayed.\n",
        "9. stays_in_week_nights: Number of week nights (Monday to Friday) the guest stayed.\n",
        "10. adults: Number of adults.\n",
        "11. children: Number of children.\n",
        "12. babies: Number of babies.\n",
        "13. meal: Type of meal booked (e.g., BB for Bed & Breakfast).\n",
        "14. country: Country of origin of the guest.\n",
        "15. market_segment: Market segment designation (e.g., Online Travel Agents, Offline Travel Agents).\n",
        "16. distribution_channel: Booking distribution channel (e.g., Direct, Corporate).\n",
        "17. is_repeated_guest: Binary indicator if the guest is a repeated guest (1) or not (0).\n",
        "18. previous_cancellations: Number of previous cancellations by the guest.\n",
        "19. previous_bookings_not_canceled: Number of previous bookings not canceled by the guest.\n",
        "20. reserved_room_type: Type of room reserved.\n",
        "21. assigned_room_type: Type of room assigned to the guest.\n",
        "22. booking_changes: Number of changes made to the booking.\n",
        "23. deposit_type: Type of deposit made (e.g., No Deposit, Non Refund, Refundable).\n",
        "24. agent: ID of the travel agency that made the booking.\n",
        "25. company: ID of the company/entity that made the booking or is responsible for payment.\n",
        "26. days_in_waiting_list: Number of days the booking was in the waiting list before it was confirmed to the guest.\n",
        "27. customer_type: Type of booking (e.g., Contract, Group, Transient).\n",
        "28. adr: Average Daily Rate, the average rental income per paid occupied room in a given time period.\n",
        "29. required_car_parking_spaces: Number of car parking spaces requested by the guest.\n",
        "30. total_of_special_requests: Number of special requests made by the guest (e.g., twin bed, high floor).\n",
        "31. reservation_status: Reservation last status (e.g., Check-Out, Canceled).\n",
        "32. reservation_status_date: Date at which the last status was set.\n",
        "\n",
        "\n"
      ],
      "metadata": {
        "id": "gfoNAAC-nUe_"
      }
    },
    {
      "cell_type": "markdown",
      "source": [
        "## ***2. Understanding Your Variables***"
      ],
      "metadata": {
        "id": "nA9Y7ga8ng1Z"
      }
    },
    {
      "cell_type": "code",
      "source": [
        "# Dataset Columns\n",
        "hb_df.columns"
      ],
      "metadata": {
        "id": "j7xfkqrt5Ag5"
      },
      "execution_count": null,
      "outputs": []
    },
    {
      "cell_type": "code",
      "source": [
        "# Dataset Describe\n",
        "hb_df.describe()"
      ],
      "metadata": {
        "id": "DnOaZdaE5Q5t"
      },
      "execution_count": null,
      "outputs": []
    },
    {
      "cell_type": "markdown",
      "source": [
        "### Variables Description"
      ],
      "metadata": {
        "id": "PBTbrJXOngz2"
      }
    },
    {
      "cell_type": "markdown",
      "source": [
        "- **is_canceled:**\n",
        "  - 27.49% of bookings were canceled on average.\n",
        "- **lead_time:**\n",
        "  - The average lead time is approximately 79.89 days, with a standard deviation of around 86.05 days.\n",
        "- **arrival_date_year:**\n",
        "  - Bookings span from 2015 to 2017.\n",
        "- **arrival_date_week_number and arrival_date_day_of_month:**\n",
        "  - These columns give the week number and day of the month of the arrival date, respectively.\n",
        "- **stays_in_weekend_nights and stays_in_week_nights:**\n",
        "  - On average, guests stay for approximately 1 weekend night and 2.63 week nights.\n",
        "- **adults, children, and babies:**\n",
        "  - Average numbers of adults, children, and babies per booking are provided.\n",
        "- **previous_cancellations and previous_bookings_not_canceled:**\n",
        "  - These columns indicate the number of previous cancellations and bookings not canceled by the guest.\n",
        "- **booking_changes:**\n",
        "  - On average, there are around 0.27 booking changes per booking.\n",
        "- **agent and company:**\n",
        "  - These seem to be identifiers for the travel agency and company, respectively, involved in the booking.\n",
        "- **days_in_waiting_list:**\n",
        "  - On average, bookings spent approximately 11 days in the waiting list before confirmation.\n",
        "- **adr (Average Daily Rate):**\n",
        "  - The average daily rate is around 106.34 units.\n",
        "- **required_car_parking_spaces and total_of_special_requests:**\n",
        "  - These columns provide average counts for requested car parking spaces and special requests per booking."
      ],
      "metadata": {
        "id": "aJV4KIxSnxay"
      }
    },
    {
      "cell_type": "markdown",
      "source": [
        "### Check Unique Values for each variable."
      ],
      "metadata": {
        "id": "u3PMJOP6ngxN"
      }
    },
    {
      "cell_type": "code",
      "source": [
        "# Check Unique Values for each variable.\n",
        "for col in hb_df.columns:\n",
        "  print(f\"Unique values for {col}: {hb_df[col].unique()}\\n\")"
      ],
      "metadata": {
        "id": "9R7ikwMO_utl"
      },
      "execution_count": null,
      "outputs": []
    },
    {
      "cell_type": "markdown",
      "source": [
        "## 3. ***Data Wrangling***"
      ],
      "metadata": {
        "id": "dauF4eBmngu3"
      }
    },
    {
      "cell_type": "markdown",
      "source": [
        "### Data Wrangling Code"
      ],
      "metadata": {
        "id": "bKJF3rekwFvQ"
      }
    },
    {
      "cell_type": "code",
      "source": [
        "hb_df.info()"
      ],
      "metadata": {
        "id": "wskGtvrTA0e6"
      },
      "execution_count": null,
      "outputs": []
    },
    {
      "cell_type": "code",
      "source": [
        "# Changing Data type of some columns\n",
        "hb_df[['children', 'company', 'agent']] = hb_df[['children', 'company', 'agent']].astype('int64')\n",
        "hb_df['reservation_status_date'] = pd.to_datetime(hb_df['reservation_status_date'], format='%Y-%m-%d')"
      ],
      "metadata": {
        "id": "INWVHKnEDegX"
      },
      "execution_count": null,
      "outputs": []
    },
    {
      "cell_type": "code",
      "source": [
        "# Adding important columns for data vizualization\n",
        "\n",
        "# Adding total stays from weekend stays and weeek stays\n",
        "hb_df['total_stay'] = hb_df['stays_in_weekend_nights'] + hb_df['stays_in_week_nights']\n",
        "\n",
        "# Adding total people from adult children and babies\n",
        "hb_df['total_people'] = hb_df['adults'] + hb_df['children'] + hb_df['babies']"
      ],
      "metadata": {
        "id": "hTHBcPcdDrIX"
      },
      "execution_count": null,
      "outputs": []
    },
    {
      "cell_type": "code",
      "source": [
        "hb_df[['total_stay', 'total_people']].head(), hb_df.columns, hb_df.info()"
      ],
      "metadata": {
        "id": "Vm2cJbX21RJe"
      },
      "execution_count": null,
      "outputs": []
    },
    {
      "cell_type": "markdown",
      "source": [
        "### What all manipulations have you done and insights you found?"
      ],
      "metadata": {
        "id": "MSa1f5Uengrz"
      }
    },
    {
      "cell_type": "markdown",
      "source": [
        "#### 1. **data type**: Changing the data type of column to the right formate. chaning the children, company, agent column data type into int formate.\n",
        "\n",
        "#### 2. **Create new columns from exisiting one to gain more insight.**\n",
        "  - created total_stay column with the help of weekend stay and week stay columns. Giving us the insight of total days of stay regard less of week or weekend.\n",
        "    - By doing so i can usderstand the total number of stay for each room or hotel.\n",
        "  - created total_people columns with the combination of adults, children and babies. Which provide the The number of people stay.\n",
        "    - This gives the total number of people stayed at the room or hotel.\n",
        "    \n",
        "\n"
      ],
      "metadata": {
        "id": "LbyXE7I1olp8"
      }
    },
    {
      "cell_type": "markdown",
      "source": [
        "## ***4. Data Vizualization, Storytelling & Experimenting with charts : Understand the relationships between variables***"
      ],
      "metadata": {
        "id": "GF8Ens_Soomf"
      }
    },
    {
      "cell_type": "code",
      "source": [
        "hb_df.info()"
      ],
      "metadata": {
        "id": "1CI4Il3364Ep"
      },
      "execution_count": null,
      "outputs": []
    },
    {
      "cell_type": "markdown",
      "source": [
        "#### Chart - 1"
      ],
      "metadata": {
        "id": "0wOQAZs5pc--"
      }
    },
    {
      "cell_type": "code",
      "source": [
        "# Chart - 1 Count of Canceled vs. Not Canceled Bookings: Bar chart\n",
        "plt.figure(figsize=(8,6))\n",
        "sns.countplot(data=hb_df, x='is_canceled', hue='hotel')\n",
        "plt.xlabel('Booking cancellation status')\n",
        "plt.ylabel('count')\n",
        "plt.title('Count of Canceled Vs Not Csnceled Booking')\n",
        "plt.show()"
      ],
      "metadata": {
        "id": "7v_ESjsspbW7"
      },
      "execution_count": null,
      "outputs": []
    },
    {
      "cell_type": "markdown",
      "source": [
        "##### 1. Why did you pick the specific chart?"
      ],
      "metadata": {
        "id": "K5QZ13OEpz2H"
      }
    },
    {
      "cell_type": "markdown",
      "source": [
        "**I chose a countplot for the distribution of canceled vs. not canceled bookings because it provides a clear visual representation of the balance between the two categories. It's a straightforward way to compare the number of canceled bookings with the number of bookings that were not canceled.**"
      ],
      "metadata": {
        "id": "XESiWehPqBRc"
      }
    },
    {
      "cell_type": "markdown",
      "source": [
        "##### 2. What is/are the insight(s) found from the chart?"
      ],
      "metadata": {
        "id": "lQ7QKXXCp7Bj"
      }
    },
    {
      "cell_type": "markdown",
      "source": [
        "**From the chart, we can see the distribution of canceled and not canceled bookings. This helps in understanding the proportion of bookings that were canceled versus those that were not. For instance, if there are significantly more canceled bookings compared to non-canceled ones, it might indicate issues with booking management, customer satisfaction, or external factors impacting travel plans.**"
      ],
      "metadata": {
        "id": "C_j1G7yiqdRP"
      }
    },
    {
      "cell_type": "markdown",
      "source": [
        "##### 3. Will the gained insights help creating a positive business impact?\n",
        "Are there any insights that lead to negative growth? Justify with specific reason."
      ],
      "metadata": {
        "id": "448CDAPjqfQr"
      }
    },
    {
      "cell_type": "markdown",
      "source": [
        "**The insights gained from this chart can indeed help in making informed business decisions. For example, if the number of canceled bookings is high, it might suggest a need to review cancellation policies, improve customer service, or implement strategies to reduce cancellations, such as offering flexible booking options or personalized incentives. However, if the number of canceled bookings is excessively low, it could indicate potential revenue loss due to underbooking or a lack of customer engagement. In this case, it might be necessary to analyze the reasons behind the low cancellation rate and take corrective actions to encourage more bookings without sacrificing revenue.**"
      ],
      "metadata": {
        "id": "3cspy4FjqxJW"
      }
    },
    {
      "cell_type": "markdown",
      "source": [
        "#### Chart - 2"
      ],
      "metadata": {
        "id": "KSlN3yHqYklG"
      }
    },
    {
      "cell_type": "code",
      "source": [
        "# Chart - 2 Lead Time Distribution:\n",
        "\n",
        "# screen size\n",
        "plt.figure(figsize=(8,6))\n",
        "\n",
        "# creating graph\n",
        "sns.histplot(x='lead_time', data=hb_df, bins = 25, hue='hotel')\n",
        "\n",
        "# labeling\n",
        "plt.xlabel('Lead Time')\n",
        "plt.ylabel(\"Frequency\")\n",
        "plt.title(\"Lead Time Distribution\")\n",
        "\n",
        "# show graph\n",
        "plt.show()"
      ],
      "metadata": {
        "id": "R4YgtaqtYklH"
      },
      "execution_count": null,
      "outputs": []
    },
    {
      "cell_type": "markdown",
      "source": [
        "##### 1. Why did you pick the specific chart?"
      ],
      "metadata": {
        "id": "t6dVpIINYklI"
      }
    },
    {
      "cell_type": "markdown",
      "source": [
        "**I opted for a histogram to visualize the distribution of lead time because it allows us to understand the frequency or density distribution of lead times. A histogram bins the lead time values into intervals and shows the number of occurrences within each interval. This helps in identifying the typical lead times and any patterns or outliers in the data.**"
      ],
      "metadata": {
        "id": "5aaW0BYyYklI"
      }
    },
    {
      "cell_type": "markdown",
      "source": [
        "##### 2. What is/are the insight(s) found from the chart?"
      ],
      "metadata": {
        "id": "ijmpgYnKYklI"
      }
    },
    {
      "cell_type": "markdown",
      "source": [
        "**By examining the lead time distribution, we can gain insights into how far in advance customers typically make their bookings. For instance, if the distribution is skewed towards shorter lead times, it may indicate a trend of last-minute bookings. Conversely, if there is a peak at longer lead times, it may suggest a pattern of customers planning their trips well in advance. Understanding these patterns can inform marketing strategies, pricing decisions, and resource allocation.**"
      ],
      "metadata": {
        "id": "PSx9atu2YklI"
      }
    },
    {
      "cell_type": "markdown",
      "source": [
        "##### 3. Will the gained insights help creating a positive business impact?\n",
        "Are there any insights that lead to negative growth? Justify with specific reason."
      ],
      "metadata": {
        "id": "-JiQyfWJYklI"
      }
    },
    {
      "cell_type": "markdown",
      "source": [
        "**The insights from the lead time distribution can positively impact business decisions by enabling better resource management, pricing strategies, and marketing efforts. For example, if the majority of bookings occur with short lead times, the business can focus on targeting last-minute travelers with promotional offers or adjusting pricing dynamically to maximize revenue. However, if there is a lack of bookings with longer lead times, it could indicate a need to improve marketing efforts to attract customers earlier in the booking cycle, potentially leading to negative growth if not addressed promptly.**"
      ],
      "metadata": {
        "id": "BcBbebzrYklV"
      }
    },
    {
      "cell_type": "markdown",
      "source": [
        "#### Chart - 3"
      ],
      "metadata": {
        "id": "EM7whBJCYoAo"
      }
    },
    {
      "cell_type": "code",
      "source": [
        "# Chart - 3 Arrival Date Year Distribution\n",
        "\n",
        "plt.figure(figsize=(8,6))\n",
        "sns.countplot(x='arrival_date_year', data=hb_df, hue='hotel')\n",
        "plt.xlabel('Arrival Date Year')\n",
        "plt.ylabel(\"Count\")\n",
        "plt.title(\"Arrival Date Year Distribution\")\n",
        "plt.show()"
      ],
      "metadata": {
        "id": "t6GMdE67YoAp"
      },
      "execution_count": null,
      "outputs": []
    },
    {
      "cell_type": "markdown",
      "source": [
        "##### 1. Why did you pick the specific chart?"
      ],
      "metadata": {
        "id": "fge-S5ZAYoAp"
      }
    },
    {
      "cell_type": "markdown",
      "source": [
        "**A stacked bar chart was chosen to visualize the distribution of bookings across different years while also considering the hotel type (i.e., whether it's a resort hotel or a city hotel). This chart type allows for a comparison of booking counts between hotel types within each year, providing insights into any differences in booking trends between the two types of accommodations over time.**"
      ],
      "metadata": {
        "id": "5dBItgRVYoAp"
      }
    },
    {
      "cell_type": "markdown",
      "source": [
        "##### 2. What is/are the insight(s) found from the chart?"
      ],
      "metadata": {
        "id": "85gYPyotYoAp"
      }
    },
    {
      "cell_type": "markdown",
      "source": [
        "**The stacked bar chart reveals the distribution of bookings across different years for both resort hotels and city hotels. Insights can be gained by observing patterns such as which type of hotel attracts more bookings in specific years, whether there are fluctuations in booking preferences between hotel types over time, or if there are any consistent trends in booking behavior for each hotel type.**"
      ],
      "metadata": {
        "id": "4jstXR6OYoAp"
      }
    },
    {
      "cell_type": "markdown",
      "source": [
        "##### 3. Will the gained insights help creating a positive business impact?\n",
        "Are there any insights that lead to negative growth? Justify with specific reason."
      ],
      "metadata": {
        "id": "RoGjAbkUYoAp"
      }
    },
    {
      "cell_type": "markdown",
      "source": [
        "**The insights gained from this chart can positively impact business strategies by informing decisions related to marketing, pricing, and resource allocation for each hotel type. For example, if the chart shows that one hotel type consistently attracts more bookings over the years, the business can focus its marketing efforts and investment in infrastructure on that particular type of accommodation to capitalize on its popularity. However, if there are indications of negative growth, such as a decline in bookings for both hotel types over consecutive years, it may signal broader industry trends or shifts in consumer preferences that require strategic adjustments to prevent further decline and stimulate growth.**"
      ],
      "metadata": {
        "id": "zfJ8IqMcYoAp"
      }
    },
    {
      "cell_type": "markdown",
      "source": [
        "#### Chart - 4"
      ],
      "metadata": {
        "id": "4Of9eVA-YrdM"
      }
    },
    {
      "cell_type": "code",
      "source": [
        "# Chart - 4 Arrival Date Month Distribution\n",
        "\n",
        "plt.figure(figsize=(12, 6))\n",
        "sns.countplot(data=hb_df, x='arrival_date_month', hue=\"hotel\")\n",
        "plt.xticks(rotation=45)\n",
        "plt.xlabel('Arrival Date Month')\n",
        "plt.ylabel('Count')\n",
        "plt.title(\"Arrival Date Month Distribution\")\n",
        "plt.show()"
      ],
      "metadata": {
        "id": "irlUoxc8YrdO"
      },
      "execution_count": null,
      "outputs": []
    },
    {
      "cell_type": "markdown",
      "source": [
        "##### 1. Why did you pick the specific chart?"
      ],
      "metadata": {
        "id": "iky9q4vBYrdO"
      }
    },
    {
      "cell_type": "markdown",
      "source": [
        "**A grouped bar chart was selected to visualize the distribution of bookings across different months while also considering the hotel type. This chart type allows for a comparison of booking counts between resort hotels and city hotels within each month, providing insights into any seasonal variations or differences in booking patterns between the two types of accommodations.**"
      ],
      "metadata": {
        "id": "aJRCwT6DYrdO"
      }
    },
    {
      "cell_type": "markdown",
      "source": [
        "##### 2. What is/are the insight(s) found from the chart?"
      ],
      "metadata": {
        "id": "F6T5p64dYrdO"
      }
    },
    {
      "cell_type": "markdown",
      "source": [
        "**The grouped bar chart reveals the distribution of bookings across different months for both resort hotels and city hotels. Insights can be gleaned by examining patterns such as peak booking months, differences in booking behavior between hotel types during specific months, or any consistent trends in booking preferences throughout the year.**"
      ],
      "metadata": {
        "id": "Xx8WAJvtYrdO"
      }
    },
    {
      "cell_type": "markdown",
      "source": [
        "##### 3. Will the gained insights help creating a positive business impact?\n",
        "Are there any insights that lead to negative growth? Justify with specific reason."
      ],
      "metadata": {
        "id": "y-Ehk30pYrdP"
      }
    },
    {
      "cell_type": "markdown",
      "source": [
        "**The insights gained from this chart can positively impact business strategies by informing decisions related to seasonal pricing, marketing campaigns, and resource allocation for each hotel type. For example, if the chart shows that resort hotels experience a surge in bookings during summer months, the business can implement targeted marketing promotions or adjust pricing strategies to capitalize on seasonal demand. However, if there are indications of negative growth, such as a decline in bookings for both hotel types during traditionally busy months, it may signal broader economic or industry-related challenges that require strategic adjustments to mitigate negative impacts and stimulate growth.**"
      ],
      "metadata": {
        "id": "jLNxxz7MYrdP"
      }
    },
    {
      "cell_type": "markdown",
      "source": [
        "#### Chart - 5"
      ],
      "metadata": {
        "id": "bamQiAODYuh1"
      }
    },
    {
      "cell_type": "code",
      "source": [
        "# Chart - 5 Week Number vs. Total Stay\n",
        "\n",
        "plt.figure(figsize=(12,8))\n",
        "sns.scatterplot(data=hb_df, x='arrival_date_week_number', y='total_stay', hue='hotel', size='total_stay')\n",
        "plt.xlabel('Arrival Week Number')\n",
        "plt.ylabel(\"Total Stay\")\n",
        "plt.title(\"Week Number V/S Total Stay\")\n",
        "plt.show()"
      ],
      "metadata": {
        "id": "TIJwrbroYuh3"
      },
      "execution_count": null,
      "outputs": []
    },
    {
      "cell_type": "markdown",
      "source": [
        "##### 1. Why did you pick the specific chart?"
      ],
      "metadata": {
        "id": "QHF8YVU7Yuh3"
      }
    },
    {
      "cell_type": "markdown",
      "source": [
        "**I selected a scatter plot because it effectively visualizes the relationship between two continuous variables: arrival week number and total stay. Additionally, by incorporating hue (for hotel type) and size (for total stay), we can add more dimensions to the visualization, allowing for a richer analysis of the data.**"
      ],
      "metadata": {
        "id": "dcxuIMRPYuh3"
      }
    },
    {
      "cell_type": "markdown",
      "source": [
        "##### 2. What is/are the insight(s) found from the chart?"
      ],
      "metadata": {
        "id": "GwzvFGzlYuh3"
      }
    },
    {
      "cell_type": "markdown",
      "source": [
        "**The scatter plot reveals the distribution of total stay for each booking across different arrival week numbers. By examining the plot, we can identify any trends, clusters, or outliers in the data. For example, we can observe whether there's a pattern of longer stays during specific weeks or if there are variations in total stay between different hotel types. The size of the points also provides information about the duration of the stay, with larger points indicating longer stays.**"
      ],
      "metadata": {
        "id": "uyqkiB8YYuh3"
      }
    },
    {
      "cell_type": "markdown",
      "source": [
        "##### 3. Will the gained insights help creating a positive business impact?\n",
        "Are there any insights that lead to negative growth? Justify with specific reason."
      ],
      "metadata": {
        "id": "qYpmQ266Yuh3"
      }
    },
    {
      "cell_type": "markdown",
      "source": [
        "**The insights gained from this chart can positively impact business strategies related to capacity planning, resource allocation, and revenue optimization. For instance, if the plot shows a concentration of larger points (indicating longer stays) during certain weeks, the business can adjust staffing levels or inventory accordingly to meet the anticipated demand. However, if there are indications of negative growth, such as a decrease in total stay over time or a lack of bookings during peak weeks, it may signal potential revenue loss or underutilization of resources. In such cases, the business may need to investigate the reasons behind these trends and implement strategies to stimulate demand and encourage longer stays, such as targeted promotions or package deals.**"
      ],
      "metadata": {
        "id": "_WtzZ_hCYuh4"
      }
    },
    {
      "cell_type": "markdown",
      "source": [
        "#### Chart - 6"
      ],
      "metadata": {
        "id": "OH-pJp9IphqM"
      }
    },
    {
      "cell_type": "code",
      "source": [
        "# Chart - 6 Customer Type Distribution\n",
        "# get numbers of customer type\n",
        "customer_type = hb_df['customer_type'].value_counts()\n",
        "# customer_type\n",
        "\n",
        "# Get the label and count for the pie chart\n",
        "customer_type_label = customer_type.index\n",
        "customer_type_size = customer_type.values\n",
        "# print(customer_type_label, customer_type_size)\n",
        "\n",
        "# create Pie chart\n",
        "plt.figure(figsize=(8, 6))\n",
        "plt.pie(customer_type_size, labels=customer_type_label, autopct='%1.1f%%')\n",
        "plt.title('customer Type Distribution')\n",
        "plt.axis('equal')\n",
        "plt.show()"
      ],
      "metadata": {
        "id": "kuRf4wtuphqN"
      },
      "execution_count": null,
      "outputs": []
    },
    {
      "cell_type": "markdown",
      "source": [
        "##### 1. Why did you pick the specific chart?"
      ],
      "metadata": {
        "id": "bbFf2-_FphqN"
      }
    },
    {
      "cell_type": "markdown",
      "source": [
        "**I chose a pie chart because it effectively visualizes the distribution of different customer types as proportions of a whole. Each slice of the pie represents a customer type, and the size of each slice corresponds to the proportion of that customer type within the entire dataset. This type of chart is ideal for showcasing categorical data and comparing the relative sizes of different categories.**"
      ],
      "metadata": {
        "id": "loh7H2nzphqN"
      }
    },
    {
      "cell_type": "markdown",
      "source": [
        "##### 2. What is/are the insight(s) found from the chart?"
      ],
      "metadata": {
        "id": "_ouA3fa0phqN"
      }
    },
    {
      "cell_type": "markdown",
      "source": [
        "**The pie chart provides a clear overview of the distribution of customer types. By examining the chart, we can easily identify which customer types make up the majority and minority of bookings. Additionally, we can compare the relative proportions of different customer types, which may reveal patterns or trends in customer behavior.**"
      ],
      "metadata": {
        "id": "VECbqPI7phqN"
      }
    },
    {
      "cell_type": "markdown",
      "source": [
        "##### 3. Will the gained insights help creating a positive business impact?\n",
        "Are there any insights that lead to negative growth? Justify with specific reason."
      ],
      "metadata": {
        "id": "Seke61FWphqN"
      }
    },
    {
      "cell_type": "markdown",
      "source": [
        "**The insights gained from this chart can positively impact business strategies related to customer segmentation, marketing campaigns, and service offerings. For example, if the pie chart shows that a significant portion of bookings comes from a specific customer type (e.g., transient), the business can tailor its marketing efforts and services to better cater to the needs and preferences of that customer segment, potentially leading to increased customer satisfaction and loyalty. However, if there are indications of negative growth, such as a decline in bookings from high-value customer segments, it may signal a need to reassess marketing strategies, improve customer experiences, or introduce targeted promotions to regain lost customers and prevent further decline in revenue.**"
      ],
      "metadata": {
        "id": "DW4_bGpfphqN"
      }
    },
    {
      "cell_type": "markdown",
      "source": [
        "#### Chart - 7"
      ],
      "metadata": {
        "id": "PIIx-8_IphqN"
      }
    },
    {
      "cell_type": "code",
      "source": [
        "# Chart - 7 Market Segment Distribution\n",
        "\n",
        "# Geetting values from market aegment.\n",
        "market_segment = hb_df['market_segment'].value_counts()\n",
        "# market_segment\n",
        "\n",
        "# getting label and size or label and value to create pie chart\n",
        "label = market_segment.index\n",
        "size = market_segment.values\n",
        "# print(label, size)\n",
        "\n",
        "# Creating pie chart of market segment\n",
        "plt.figure(figsize=(10, 8))\n",
        "plt.pie(size, labels=label, autopct='%1.1f%%', startangle=190)\n",
        "plt.title(\"Market Segment Distribution\")\n",
        "plt.rcParams['font.size'] = 10\n",
        "plt.axis('equal')\n",
        "# create tiny boxy on center right on screen\n",
        "plt.legend(label, loc=\"center left\", bbox_to_anchor=(1, 0, 1, 1))\n",
        "plt.show()"
      ],
      "metadata": {
        "id": "lqAIGUfyphqO"
      },
      "execution_count": null,
      "outputs": []
    },
    {
      "cell_type": "markdown",
      "source": [
        "##### 1. Why did you pick the specific chart?"
      ],
      "metadata": {
        "id": "t27r6nlMphqO"
      }
    },
    {
      "cell_type": "markdown",
      "source": [
        "**A pie chart was selected to visualize the distribution of bookings across different market segments because it provides a clear representation of the proportion of bookings attributed to each segment. The simplicity of a pie chart makes it easy to understand and compare the relative sizes of different segments**"
      ],
      "metadata": {
        "id": "iv6ro40sphqO"
      }
    },
    {
      "cell_type": "markdown",
      "source": [
        "##### 2. What is/are the insight(s) found from the chart?"
      ],
      "metadata": {
        "id": "r2jJGEOYphqO"
      }
    },
    {
      "cell_type": "markdown",
      "source": [
        "**The pie chart reveals the distribution of bookings among various market segments. Insights can be gained by examining the relative proportions of each segment. For example, it may show that a significant portion of bookings comes from a particular segment, indicating the importance of targeting marketing efforts or tailoring services to meet the needs of that segment. Additionally, it can highlight any underrepresented segments that may warrant attention or investment to capture a larger share of the market**"
      ],
      "metadata": {
        "id": "Po6ZPi4hphqO"
      }
    },
    {
      "cell_type": "markdown",
      "source": [
        "##### 3. Will the gained insights help creating a positive business impact?\n",
        "Are there any insights that lead to negative growth? Justify with specific reason."
      ],
      "metadata": {
        "id": "b0JNsNcRphqO"
      }
    },
    {
      "cell_type": "markdown",
      "source": [
        "**The insights gained from this chart can positively impact business strategies related to marketing, customer segmentation, and product/service offerings. For instance, if the pie chart indicates that a particular market segment accounts for a small portion of bookings, the business can focus on developing targeted marketing campaigns or special promotions to attract customers from that segment, potentially leading to increased revenue. Conversely, if there are indications of negative growth, such as a decline in bookings from key market segments, it may signal a need to reassess marketing strategies or address issues impacting customer satisfaction within those segments to prevent further decline and stimulate growth.**"
      ],
      "metadata": {
        "id": "xvSq8iUTphqO"
      }
    },
    {
      "cell_type": "markdown",
      "source": [
        "#### Chart - 8"
      ],
      "metadata": {
        "id": "BZR9WyysphqO"
      }
    },
    {
      "cell_type": "code",
      "source": [
        "# Chart - 8 Distribution Channel Distribution\n",
        "\n",
        "# Getting value count from distribution_channel\n",
        "distribution_channel = hb_df['distribution_channel'].value_counts()\n",
        "# distribution_channel\n",
        "\n",
        "# getting label and size(value) from distribution_channel\n",
        "label = distribution_channel.index\n",
        "size = distribution_channel.values\n",
        "# print(size, label)\n",
        "\n",
        "# creating pie chart\n",
        "plt.figure(figsize=(10, 8))\n",
        "plt.pie(size, labels=label, autopct='%1.1f%%')\n",
        "plt.legend(label, loc=\"center left\", bbox_to_anchor=(1, 0, 1, 1))\n",
        "plt.title(\"Distribution Channel distribution\")\n",
        "plt.axis('equal')\n",
        "plt.show()"
      ],
      "metadata": {
        "id": "TdPTWpAVphqO"
      },
      "execution_count": null,
      "outputs": []
    },
    {
      "cell_type": "markdown",
      "source": [
        "##### 1. Why did you pick the specific chart?"
      ],
      "metadata": {
        "id": "jj7wYXLtphqO"
      }
    },
    {
      "cell_type": "markdown",
      "source": [
        "**I chose a pie chart because it effectively displays the distribution of bookings across different distribution channels as proportions of a whole. This type of chart allows for easy comparison of the relative sizes of each distribution channel and provides a clear visual representation of their contributions to the overall booking volume.**"
      ],
      "metadata": {
        "id": "Ob8u6rCTphqO"
      }
    },
    {
      "cell_type": "markdown",
      "source": [
        "##### 2. What is/are the insight(s) found from the chart?"
      ],
      "metadata": {
        "id": "eZrbJ2SmphqO"
      }
    },
    {
      "cell_type": "markdown",
      "source": [
        "**The pie chart reveals the proportion of bookings attributed to each distribution channel. By examining the chart, we can identify which distribution channels are the most prominent and which ones contribute less to the overall booking volume. Additionally, we can compare the relative importance of different distribution channels and assess their impact on the business.**"
      ],
      "metadata": {
        "id": "mZtgC_hjphqO"
      }
    },
    {
      "cell_type": "markdown",
      "source": [
        "##### 3. Will the gained insights help creating a positive business impact?\n",
        "Are there any insights that lead to negative growth? Justify with specific reason."
      ],
      "metadata": {
        "id": "rFu4xreNphqO"
      }
    },
    {
      "cell_type": "markdown",
      "source": [
        "**The insights gained from this chart can positively impact business strategies related to distribution channel management, marketing efforts, and revenue optimization. For example, if the pie chart shows that a significant portion of bookings comes from a particular distribution channel (e.g., online travel agencies), the business can focus on strengthening partnerships with these channels or investing more resources in targeted marketing campaigns to further leverage their reach and drive additional bookings. However, if there are indications of negative growth, such as a decline in bookings from key distribution channels or an overreliance on a single channel, it may signal a need to diversify distribution channels, enhance direct booking channels, or renegotiate terms with existing partners to mitigate risks and ensure sustainable growth.**"
      ],
      "metadata": {
        "id": "ey_0qi68phqO"
      }
    },
    {
      "cell_type": "markdown",
      "source": [
        "#### Chart - 9"
      ],
      "metadata": {
        "id": "YJ55k-q6phqO"
      }
    },
    {
      "cell_type": "code",
      "source": [
        "# Chart - 9 Room Type Comparison\n",
        "\n",
        "# Getting number of room type\n",
        "room_type_count = hb_df.groupby(['reserved_room_type', 'assigned_room_type']).size().unstack()\n",
        "# room_type_count\n",
        "\n",
        "# create a stack graph\n",
        "room_type_count.plot(kind='bar', stacked=True, figsize=(8, 6))\n",
        "\n",
        "# Addaing labels\n",
        "plt.title('Reserved room type V/S Assigned room type')\n",
        "plt.xlabel('Reserved room type')\n",
        "plt.ylabel('Count')\n",
        "\n",
        "# Show grapj\n",
        "plt.show()"
      ],
      "metadata": {
        "id": "B2aS4O1ophqO"
      },
      "execution_count": null,
      "outputs": []
    },
    {
      "cell_type": "markdown",
      "source": [
        "##### 1. Why did you pick the specific chart?"
      ],
      "metadata": {
        "id": "gCFgpxoyphqP"
      }
    },
    {
      "cell_type": "markdown",
      "source": [
        "**I chose a stacked bar chart because it effectively visualizes the relationship between reserved room types and assigned room types. This type of chart allows us to compare the distribution of assigned room types within each reserved room type, providing insights into how often guests receive the room type they originally booked.**"
      ],
      "metadata": {
        "id": "TVxDimi2phqP"
      }
    },
    {
      "cell_type": "markdown",
      "source": [
        "##### 2. What is/are the insight(s) found from the chart?"
      ],
      "metadata": {
        "id": "OVtJsKN_phqQ"
      }
    },
    {
      "cell_type": "markdown",
      "source": [
        "**The stacked bar chart reveals the frequency of different room type combinations, showing how often each reserved room type is assigned to the same or different room types. By examining the chart, we can identify patterns such as whether certain reserved room types are consistently assigned to specific room types or if there are deviations from the original reservations**"
      ],
      "metadata": {
        "id": "ngGi97qjphqQ"
      }
    },
    {
      "cell_type": "markdown",
      "source": [
        "##### 3. Will the gained insights help creating a positive business impact?\n",
        "Are there any insights that lead to negative growth? Justify with specific reason."
      ],
      "metadata": {
        "id": "lssrdh5qphqQ"
      }
    },
    {
      "cell_type": "markdown",
      "source": [
        "**The insights gained from this chart can positively impact business operations and customer satisfaction. For example, if the chart shows that a high percentage of guests receive the room type they originally booked, it indicates efficient room allocation processes and may contribute to positive guest experiences. On the other hand, if there are instances where guests are frequently assigned different room types than what they reserved, it could lead to dissatisfaction and negative reviews, potentially impacting repeat bookings and revenue. In such cases, the business may need to review its room allocation procedures, improve communication with guests, or address any issues with room availability to minimize negative impacts on customer satisfaction and revenue growth.**"
      ],
      "metadata": {
        "id": "tBpY5ekJphqQ"
      }
    },
    {
      "cell_type": "markdown",
      "source": [
        "#### Chart - 10"
      ],
      "metadata": {
        "id": "U2RJ9gkRphqQ"
      }
    },
    {
      "cell_type": "code",
      "source": [
        "# Chart - 10 Deposit Type Distribution\n",
        "\n",
        "# Getting values from\n",
        "deposit_type = hb_df['deposit_type'].value_counts()\n",
        "# deposit_type\n",
        "\n",
        "#  geting label and value from deposit_type\n",
        "label = deposit_type.index\n",
        "size = deposit_type.values\n",
        "# print(size, label)\n",
        "\n",
        "# creating graph\n",
        "plt.pie(size, labels=label, autopct='%1.1f%%')\n",
        "\n",
        "# labeling\n",
        "plt.legend(label, loc='center left', bbox_to_anchor=(1, 0))\n",
        "plt.title('Deposit Type Distribution')\n",
        "plt.axis('equal')\n",
        "\n",
        "# show graph\n",
        "plt.show()"
      ],
      "metadata": {
        "id": "GM7a4YP4phqQ"
      },
      "execution_count": null,
      "outputs": []
    },
    {
      "cell_type": "markdown",
      "source": [
        "##### 1. Why did you pick the specific chart?"
      ],
      "metadata": {
        "id": "1M8mcRywphqQ"
      }
    },
    {
      "cell_type": "markdown",
      "source": [
        "**I selected a pie chart because it effectively visualizes the distribution of bookings across different deposit types as proportions of a whole. This type of chart allows for easy comparison of the relative sizes of each deposit type and provides a clear representation of their contributions to the overall booking volume.**"
      ],
      "metadata": {
        "id": "8agQvks0phqQ"
      }
    },
    {
      "cell_type": "markdown",
      "source": [
        "##### 2. What is/are the insight(s) found from the chart?"
      ],
      "metadata": {
        "id": "tgIPom80phqQ"
      }
    },
    {
      "cell_type": "markdown",
      "source": [
        "**The pie chart reveals the proportion of bookings attributed to each deposit type. By examining the chart, we can identify which deposit types are the most common and which ones are less frequently used. Additionally, we can compare the relative importance of different deposit types and assess their impact on the business.**"
      ],
      "metadata": {
        "id": "Qp13pnNzphqQ"
      }
    },
    {
      "cell_type": "markdown",
      "source": [
        "##### 3. Will the gained insights help creating a positive business impact?\n",
        "Are there any insights that lead to negative growth? Justify with specific reason."
      ],
      "metadata": {
        "id": "JMzcOPDDphqR"
      }
    },
    {
      "cell_type": "markdown",
      "source": [
        "**The insights gained from this chart can positively impact business strategies related to revenue management and customer acquisition. For example, if the pie chart shows that a significant portion of bookings are made with non-refundable deposits, the business can adjust pricing strategies or introduce incentives to encourage more bookings with refundable deposits, potentially increasing flexibility for guests and reducing cancellation rates. However, if there are indications of negative growth, such as a decline in bookings with refundable deposits, it may signal a need to reassess pricing strategies or address concerns related to booking policies to mitigate potential revenue loss and ensure sustainable growth.**"
      ],
      "metadata": {
        "id": "R4Ka1PC2phqR"
      }
    },
    {
      "cell_type": "markdown",
      "source": [
        "#### Chart - 11"
      ],
      "metadata": {
        "id": "x-EpHcCOp1ci"
      }
    },
    {
      "cell_type": "code",
      "source": [
        "# Chart - 11 Average Daily Rate (ADR) Distribution\n",
        "\n",
        "# setting screen size\n",
        "plt.figure(figsize=(10, 8))\n",
        "\n",
        "# creating graph\n",
        "plt.hist(hb_df['adr'], bins=100, color='lightgreen', edgecolor='black')\n",
        "\n",
        "# labeling\n",
        "plt.title(\"Average Daily Rate(ADR)\")\n",
        "plt.xlabel('ADR')\n",
        "plt.ylabel(\"Frequency\")\n",
        "\n",
        "# show graph\n",
        "plt.show()"
      ],
      "metadata": {
        "id": "mAQTIvtqp1cj"
      },
      "execution_count": null,
      "outputs": []
    },
    {
      "cell_type": "markdown",
      "source": [
        "##### 1. Why did you pick the specific chart?"
      ],
      "metadata": {
        "id": "X_VqEhTip1ck"
      }
    },
    {
      "cell_type": "markdown",
      "source": [
        "**I chose a histogram because it effectively displays the distribution of ADR values, allowing us to visualize the frequency of different ADR ranges within the dataset. Histograms are particularly useful for exploring the distribution and spread of continuous numerical variables like ADR.**"
      ],
      "metadata": {
        "id": "-vsMzt_np1ck"
      }
    },
    {
      "cell_type": "markdown",
      "source": [
        "##### 2. What is/are the insight(s) found from the chart?"
      ],
      "metadata": {
        "id": "8zGJKyg5p1ck"
      }
    },
    {
      "cell_type": "markdown",
      "source": [
        "**The histogram provides insights into the distribution of ADR values across the dataset. By examining the chart, we can observe the central tendency, spread, and shape of the ADR distribution. For example, we can identify whether the ADR values are normally distributed, skewed to the left or right, or exhibit other patterns such as bimodality. Additionally, we can assess the frequency of ADR values within specific ranges to understand their prevalence.**"
      ],
      "metadata": {
        "id": "ZYdMsrqVp1ck"
      }
    },
    {
      "cell_type": "markdown",
      "source": [
        "##### 3. Will the gained insights help creating a positive business impact?\n",
        "Are there any insights that lead to negative growth? Justify with specific reason."
      ],
      "metadata": {
        "id": "PVzmfK_Ep1ck"
      }
    },
    {
      "cell_type": "markdown",
      "source": [
        "**The insights gained from the histogram can positively impact business strategies related to pricing, revenue management, and market positioning. For instance, if the histogram shows a cluster of ADR values around a certain range, the business can use this information to optimize pricing strategies, adjust room rates, or target specific customer segments to maximize revenue. However, if there are indications of negative growth, such as a disproportionate number of low ADR values or a wide variability in ADR across different bookings, it may signal potential revenue challenges or pricing inefficiencies. In such cases, the business may need to review pricing strategies, evaluate competitor pricing, or explore opportunities to enhance the value proposition to guests to mitigate negative impacts on revenue growth.**"
      ],
      "metadata": {
        "id": "druuKYZpp1ck"
      }
    },
    {
      "cell_type": "markdown",
      "source": [
        "#### Chart - 12"
      ],
      "metadata": {
        "id": "n3dbpmDWp1ck"
      }
    },
    {
      "cell_type": "code",
      "source": [
        "# Chart - 12 Special Requests vs. Total Stay\n",
        "\n",
        "# screen setting\n",
        "plt.figure(figsize=(8,6))\n",
        "\n",
        "# creating graph\n",
        "sns.scatterplot(data=hb_df, y='total_stay', x='total_of_special_requests', hue='hotel', size='is_canceled')\n",
        "\n",
        "# labeling\n",
        "plt.title('Special Request V/S Total Stay')\n",
        "plt.xlabel(\"Total Number of Special Requests\")\n",
        "plt.ylabel(\"Total Stay\")\n",
        "\n",
        "# show graph\n",
        "plt.show()"
      ],
      "metadata": {
        "id": "bwevp1tKp1ck"
      },
      "execution_count": null,
      "outputs": []
    },
    {
      "cell_type": "markdown",
      "source": [
        "##### 1. Why did you pick the specific chart?"
      ],
      "metadata": {
        "id": "ylSl6qgtp1ck"
      }
    },
    {
      "cell_type": "markdown",
      "source": [
        "**I chose a scatter plot because it effectively visualizes the relationship between two continuous variables: total special requests and total stay duration. Scatter plots are ideal for identifying patterns, trends, and potential correlations between variables, making them suitable for exploring the association between special requests and the length of stay.**"
      ],
      "metadata": {
        "id": "m2xqNkiQp1ck"
      }
    },
    {
      "cell_type": "markdown",
      "source": [
        "##### 2. What is/are the insight(s) found from the chart?"
      ],
      "metadata": {
        "id": "ZWILFDl5p1ck"
      }
    },
    {
      "cell_type": "markdown",
      "source": [
        "**The scatter plot reveals the distribution of data points representing the combination of total special requests and total stay duration for each booking. By examining the chart, we can identify any patterns or trends in the relationship between special requests and total stay. For example, we can observe whether there is a linear or nonlinear association between the two variables, whether there are clusters or outliers, and whether there is any correlation between them.**"
      ],
      "metadata": {
        "id": "x-lUsV2mp1ck"
      }
    },
    {
      "cell_type": "markdown",
      "source": [
        "##### 3. Will the gained insights help creating a positive business impact?\n",
        "Are there any insights that lead to negative growth? Justify with specific reason."
      ],
      "metadata": {
        "id": "M7G43BXep1ck"
      }
    },
    {
      "cell_type": "markdown",
      "source": [
        "**The insights gained from this scatter plot can positively impact business strategies related to customer service, guest satisfaction, and revenue optimization. For instance, if the scatter plot shows a positive correlation between total special requests and total stay duration, it suggests that guests with longer stays are more likely to make special requests. In such cases, the business can use this information to enhance the guest experience by proactively addressing their needs and preferences, potentially leading to increased satisfaction, loyalty, and positive word-of-mouth recommendations. However, if there are indications of negative growth, such as a weak or negative correlation between special requests and total stay, it may signal missed opportunities to capitalize on longer stays or potential dissatisfaction among guests with fewer special requests. In such cases, the business may need to reevaluate its service offerings, communication strategies, or pricing incentives to better align with guest expectations and maximize revenue potential.**"
      ],
      "metadata": {
        "id": "5wwDJXsLp1cl"
      }
    },
    {
      "cell_type": "markdown",
      "source": [
        "#### Chart - 13"
      ],
      "metadata": {
        "id": "Ag9LCva-p1cl"
      }
    },
    {
      "cell_type": "code",
      "source": [
        "# Chart - 13 visualization code"
      ],
      "metadata": {
        "id": "EUfxeq9-p1cl"
      },
      "execution_count": null,
      "outputs": []
    },
    {
      "cell_type": "markdown",
      "source": [
        "##### 1. Why did you pick the specific chart?"
      ],
      "metadata": {
        "id": "E6MkPsBcp1cl"
      }
    },
    {
      "cell_type": "markdown",
      "source": [
        "Answer Here."
      ],
      "metadata": {
        "id": "V22bRsFWp1cl"
      }
    },
    {
      "cell_type": "markdown",
      "source": [
        "##### 2. What is/are the insight(s) found from the chart?"
      ],
      "metadata": {
        "id": "2cELzS2fp1cl"
      }
    },
    {
      "cell_type": "markdown",
      "source": [
        "Answer Here"
      ],
      "metadata": {
        "id": "ozQPc2_Ip1cl"
      }
    },
    {
      "cell_type": "markdown",
      "source": [
        "##### 3. Will the gained insights help creating a positive business impact?\n",
        "Are there any insights that lead to negative growth? Justify with specific reason."
      ],
      "metadata": {
        "id": "3MPXvC8up1cl"
      }
    },
    {
      "cell_type": "markdown",
      "source": [
        "Answer Here"
      ],
      "metadata": {
        "id": "GL8l1tdLp1cl"
      }
    },
    {
      "cell_type": "markdown",
      "source": [
        "#### Chart - 14 - Correlation Heatmap"
      ],
      "metadata": {
        "id": "NC_X3p0fY2L0"
      }
    },
    {
      "cell_type": "markdown",
      "source": [
        "Lets find the correlation between the numerical data.\n",
        "\n",
        "\\\n",
        "\n",
        "Since, columns like 'is_cancelled', 'arrival_date_year', 'arrival_date_week_number', 'arrival_date_day_of_month', 'is_repeated_guest', 'company', 'agent' are categorical data having numerical type. So we wont need to check them for correlation.\n",
        "\n",
        "\\\n",
        "\n",
        "Also, we have added total_stay and total_people columns. So, we can remove adults, children, babies, stays_in_weekend_nights, stays_in_week_nights columns."
      ],
      "metadata": {
        "id": "AnZItbix4slR"
      }
    },
    {
      "cell_type": "code",
      "source": [
        "# Correlation Heatmap visualization code"
      ],
      "metadata": {
        "id": "xyC9zolEZNRQ"
      },
      "execution_count": null,
      "outputs": []
    },
    {
      "cell_type": "markdown",
      "source": [
        "##### 1. Why did you pick the specific chart?"
      ],
      "metadata": {
        "id": "UV0SzAkaZNRQ"
      }
    },
    {
      "cell_type": "markdown",
      "source": [
        "Answer Here."
      ],
      "metadata": {
        "id": "DVPuT8LYZNRQ"
      }
    },
    {
      "cell_type": "markdown",
      "source": [
        "##### 2. What is/are the insight(s) found from the chart?"
      ],
      "metadata": {
        "id": "YPEH6qLeZNRQ"
      }
    },
    {
      "cell_type": "markdown",
      "source": [
        "Answer Here"
      ],
      "metadata": {
        "id": "bfSqtnDqZNRR"
      }
    },
    {
      "cell_type": "markdown",
      "source": [
        "#### Chart - 15 - Pair Plot"
      ],
      "metadata": {
        "id": "q29F0dvdveiT"
      }
    },
    {
      "cell_type": "code",
      "source": [
        "# Pair Plot visualization code"
      ],
      "metadata": {
        "id": "o58-TEIhveiU"
      },
      "execution_count": null,
      "outputs": []
    },
    {
      "cell_type": "markdown",
      "source": [
        "##### 1. Why did you pick the specific chart?"
      ],
      "metadata": {
        "id": "EXh0U9oCveiU"
      }
    },
    {
      "cell_type": "markdown",
      "source": [
        "Answer Here."
      ],
      "metadata": {
        "id": "eMmPjTByveiU"
      }
    },
    {
      "cell_type": "markdown",
      "source": [
        "##### 2. What is/are the insight(s) found from the chart?"
      ],
      "metadata": {
        "id": "22aHeOlLveiV"
      }
    },
    {
      "cell_type": "markdown",
      "source": [
        "Answer Here"
      ],
      "metadata": {
        "id": "uPQ8RGwHveiV"
      }
    },
    {
      "cell_type": "markdown",
      "source": [
        "## **5. Solution to Business Objective**"
      ],
      "metadata": {
        "id": "JcMwzZxoAimU"
      }
    },
    {
      "cell_type": "markdown",
      "source": [
        "#### What do you suggest the client to achieve Business Objective ?\n",
        "Explain Briefly."
      ],
      "metadata": {
        "id": "8G2x9gOozGDZ"
      }
    },
    {
      "cell_type": "markdown",
      "source": [
        "Answer Here."
      ],
      "metadata": {
        "id": "pASKb0qOza21"
      }
    },
    {
      "cell_type": "markdown",
      "source": [
        "# **Conclusion**"
      ],
      "metadata": {
        "id": "gCX9965dhzqZ"
      }
    },
    {
      "cell_type": "markdown",
      "source": [
        "Write the conclusion here."
      ],
      "metadata": {
        "id": "Fjb1IsQkh3yE"
      }
    },
    {
      "cell_type": "markdown",
      "source": [
        "### ***Hurrah! You have successfully completed your EDA Capstone Project !!!***"
      ],
      "metadata": {
        "id": "gIfDvo9L0UH2"
      }
    }
  ]
}